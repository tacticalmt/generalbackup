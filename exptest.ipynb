{
 "cells": [
  {
   "cell_type": "code",
   "execution_count": 1,
   "metadata": {},
   "outputs": [],
   "source": [
    "import Liblinks.utis as f_s\n",
    "import numpy as np\n",
    "import torch\n",
    "import torch.nn as nn\n",
    "from torch.utils.data import *\n",
    "from PIL import Image\n",
    "from torchvision import transforms\n",
    "import torchvision.transforms.functional as tf\n",
    "import os\n",
    "from torch.optim import RMSprop\n",
    "from torchvision.utils import make_grid\n",
    "from pylab import plt\n",
    "from Liblinks.sn_lib import *\n"
   ]
  },
  {
   "cell_type": "code",
   "execution_count": 2,
   "metadata": {},
   "outputs": [],
   "source": [
    "snconv=SNConv2d(3,2,1,bias=False)"
   ]
  },
  {
   "cell_type": "code",
   "execution_count": 3,
   "metadata": {},
   "outputs": [
    {
     "name": "stdout",
     "output_type": "stream",
     "text": [
      "Parameter containing:\n",
      "tensor([[[[ 0.0746]],\n",
      "\n",
      "         [[ 0.2081]],\n",
      "\n",
      "         [[ 0.2436]]],\n",
      "\n",
      "\n",
      "        [[[ 0.5353]],\n",
      "\n",
      "         [[-0.3287]],\n",
      "\n",
      "         [[ 0.1643]]]], requires_grad=True)\n"
     ]
    }
   ],
   "source": [
    "print(snconv.weight)"
   ]
  },
  {
   "cell_type": "code",
   "execution_count": 4,
   "metadata": {},
   "outputs": [],
   "source": [
    "sn_linear=SNLinear(2,3,bias=False)"
   ]
  },
  {
   "cell_type": "code",
   "execution_count": 5,
   "metadata": {},
   "outputs": [
    {
     "name": "stdout",
     "output_type": "stream",
     "text": [
      "0.8340652\n",
      "tensor([[-0.3575, -0.4913],\n",
      "        [-0.2576,  0.5294],\n",
      "        [ 0.0027,  0.7981]], grad_fn=<DivBackward0>)\n"
     ]
    }
   ],
   "source": [
    "input = torch.randn(10, 2)\n",
    "out=sn_linear(input)"
   ]
  },
  {
   "cell_type": "code",
   "execution_count": 6,
   "metadata": {},
   "outputs": [
    {
     "name": "stdout",
     "output_type": "stream",
     "text": [
      "tensor([[-0.0448,  0.5104,  0.4883],\n",
      "        [-0.5447,  0.8556,  1.1263],\n",
      "        [-0.8277,  0.1525,  0.6796],\n",
      "        [-0.5501, -0.3576,  0.0390],\n",
      "        [ 0.2476, -0.5684, -0.6734],\n",
      "        [ 0.9733, -1.1361, -1.6595],\n",
      "        [ 0.2841,  0.3491,  0.1278],\n",
      "        [-0.4692,  0.4968,  0.7543],\n",
      "        [-0.0404, -0.2936, -0.2376],\n",
      "        [ 0.0828,  0.4409,  0.3423]], grad_fn=<MmBackward>)\n"
     ]
    }
   ],
   "source": [
    "print(out)"
   ]
  },
  {
   "cell_type": "code",
   "execution_count": 7,
   "metadata": {},
   "outputs": [
    {
     "name": "stdout",
     "output_type": "stream",
     "text": [
      "Parameter containing:\n",
      "tensor([[-0.2982, -0.4098],\n",
      "        [-0.2148,  0.4416],\n",
      "        [ 0.0023,  0.6657]], requires_grad=True)\n"
     ]
    }
   ],
   "source": [
    "print(sn_linear.weight)"
   ]
  },
  {
   "cell_type": "code",
   "execution_count": 8,
   "metadata": {},
   "outputs": [
    {
     "name": "stdout",
     "output_type": "stream",
     "text": [
      "tensor([[-0.7189,  0.6143],\n",
      "        [-0.4179,  1.4126],\n",
      "        [ 1.1502,  0.8477],\n",
      "        [ 1.4783,  0.0438],\n",
      "        [ 0.4693, -0.8453],\n",
      "        [ 0.1358, -2.0798],\n",
      "        [-1.0193,  0.1636],\n",
      "        [ 0.0136,  0.9450],\n",
      "        [ 0.5244, -0.2995],\n",
      "        [-0.8247,  0.4316]])\n"
     ]
    }
   ],
   "source": [
    "print(input)"
   ]
  },
  {
   "cell_type": "code",
   "execution_count": 10,
   "metadata": {},
   "outputs": [],
   "source": [
    "d2_input=torch.randn(10,3,2,2)"
   ]
  },
  {
   "cell_type": "code",
   "execution_count": 11,
   "metadata": {},
   "outputs": [],
   "source": [
    "out_2d=snconv(d2_input)"
   ]
  },
  {
   "cell_type": "code",
   "execution_count": 12,
   "metadata": {},
   "outputs": [
    {
     "name": "stdout",
     "output_type": "stream",
     "text": [
      "tensor([[[[ 0.1584,  0.2444],\n",
      "          [-0.5218,  0.0029]],\n",
      "\n",
      "         [[-0.5211, -0.5437],\n",
      "          [-1.3526,  1.1424]]],\n",
      "\n",
      "\n",
      "        [[[-1.2919, -0.4335],\n",
      "          [ 1.0042, -0.2169]],\n",
      "\n",
      "         [[-0.0604,  0.1357],\n",
      "          [ 0.7636, -0.7842]]],\n",
      "\n",
      "\n",
      "        [[[ 0.1522,  1.0799],\n",
      "          [ 0.6534,  0.0932]],\n",
      "\n",
      "         [[-0.6756,  1.1811],\n",
      "          [-0.1546, -0.7726]]],\n",
      "\n",
      "\n",
      "        [[[ 0.2342,  0.4085],\n",
      "          [ 0.1331,  0.3393]],\n",
      "\n",
      "         [[-0.7656, -1.4160],\n",
      "          [-0.2332, -0.3203]]],\n",
      "\n",
      "\n",
      "        [[[ 0.0754,  0.6335],\n",
      "          [ 0.4783, -0.2867]],\n",
      "\n",
      "         [[-0.6595, -1.4869],\n",
      "          [ 0.2975, -0.1455]]],\n",
      "\n",
      "\n",
      "        [[[ 0.3314,  0.3597],\n",
      "          [ 0.2064, -0.9776]],\n",
      "\n",
      "         [[-0.5822, -1.2639],\n",
      "          [-0.8383, -1.4447]]],\n",
      "\n",
      "\n",
      "        [[[ 0.2672, -0.3126],\n",
      "          [ 0.5362, -0.3976]],\n",
      "\n",
      "         [[ 0.1151, -0.4971],\n",
      "          [-0.6086,  0.4936]]],\n",
      "\n",
      "\n",
      "        [[[ 0.2908,  0.1725],\n",
      "          [ 0.0395, -0.0875]],\n",
      "\n",
      "         [[-0.4418,  0.0146],\n",
      "          [ 1.2311, -0.8471]]],\n",
      "\n",
      "\n",
      "        [[[-0.0564,  0.7746],\n",
      "          [-0.1285, -0.5514]],\n",
      "\n",
      "         [[ 0.4257, -0.9466],\n",
      "          [-0.3014,  0.5784]]],\n",
      "\n",
      "\n",
      "        [[[ 0.0505, -0.5458],\n",
      "          [-0.2857, -0.5007]],\n",
      "\n",
      "         [[ 1.3214, -0.0152],\n",
      "          [ 1.0384, -0.9700]]]], grad_fn=<MkldnnConvolutionBackward>)\n"
     ]
    }
   ],
   "source": [
    "print(out_2d)"
   ]
  },
  {
   "cell_type": "code",
   "execution_count": 3,
   "metadata": {},
   "outputs": [],
   "source": [
    "emb=SNEmbedCLS(10,4)"
   ]
  },
  {
   "cell_type": "code",
   "execution_count": 5,
   "metadata": {},
   "outputs": [
    {
     "name": "stdout",
     "output_type": "stream",
     "text": [
      "tensor([[[-0.1489,  0.2807, -0.0212,  0.2507],\n",
      "         [-0.2143,  0.0346, -0.0116,  0.1392],\n",
      "         [ 0.4397, -0.1944,  0.0111, -0.0149],\n",
      "         [-0.1489,  0.2807, -0.0212,  0.2507]]], grad_fn=<EmbeddingBackward>)\n"
     ]
    }
   ],
   "source": [
    "input=torch.LongTensor([[4,0,2,4]])\n",
    "print(emb(input))"
   ]
  },
  {
   "cell_type": "code",
   "execution_count": 5,
   "metadata": {},
   "outputs": [],
   "source": [
    "a=torch.randn(3,1,5)\n",
    "b=torch.randn(3,5,1)"
   ]
  },
  {
   "cell_type": "code",
   "execution_count": 6,
   "metadata": {},
   "outputs": [
    {
     "name": "stdout",
     "output_type": "stream",
     "text": [
      "tensor([[[[ 0.1685, -1.4469, -0.5227,  1.6810, -0.6019]]],\n",
      "\n",
      "\n",
      "        [[[ 0.2006,  0.4981,  0.8309,  0.8294,  0.6330]]],\n",
      "\n",
      "\n",
      "        [[[ 0.4897, -0.1448,  0.2728, -0.2101, -1.3357]]]]) tensor([[[[ 0.2880],\n",
      "          [ 0.5534],\n",
      "          [ 0.5448],\n",
      "          [ 0.0127],\n",
      "          [ 0.3752]]],\n",
      "\n",
      "\n",
      "        [[[-0.7815],\n",
      "          [-2.1474],\n",
      "          [-1.6255],\n",
      "          [ 1.3705],\n",
      "          [-0.9349]]],\n",
      "\n",
      "\n",
      "        [[[-0.6163],\n",
      "          [-0.1407],\n",
      "          [ 0.4289],\n",
      "          [-1.4995],\n",
      "          [ 0.6002]]]])\n"
     ]
    }
   ],
   "source": [
    "print(a,b)"
   ]
  },
  {
   "cell_type": "code",
   "execution_count": 12,
   "metadata": {},
   "outputs": [],
   "source": [
    "anb=torch.matmul(a,b)"
   ]
  },
  {
   "cell_type": "code",
   "execution_count": 13,
   "metadata": {},
   "outputs": [
    {
     "name": "stdout",
     "output_type": "stream",
     "text": [
      "tensor([[[[-1.2415]]],\n",
      "\n",
      "\n",
      "        [[[-2.0322]]],\n",
      "\n",
      "\n",
      "        [[[-0.6510]]]])\n"
     ]
    }
   ],
   "source": [
    "print(anb)"
   ]
  },
  {
   "cell_type": "code",
   "execution_count": 18,
   "metadata": {},
   "outputs": [
    {
     "name": "stdout",
     "output_type": "stream",
     "text": [
      "tensor([[[[ 0.2880,  0.5534,  0.5448,  0.0127,  0.3752]]],\n",
      "\n",
      "\n",
      "        [[[-0.7815, -2.1474, -1.6255,  1.3705, -0.9349]]],\n",
      "\n",
      "\n",
      "        [[[-0.6163, -0.1407,  0.4289, -1.4995,  0.6002]]]])\n"
     ]
    }
   ],
   "source": [
    "b_1=b.view(3,1,1,5)\n",
    "print(b_1)"
   ]
  },
  {
   "cell_type": "code",
   "execution_count": 47,
   "metadata": {},
   "outputs": [
    {
     "ename": "RuntimeError",
     "evalue": "Expected tensor to have size 5 at dimension 1, but got size 1 for argument #2 'batch2' (while checking arguments for bmm)",
     "output_type": "error",
     "traceback": [
      "\u001b[0;31m---------------------------------------------------------------------------\u001b[0m",
      "\u001b[0;31mRuntimeError\u001b[0m                              Traceback (most recent call last)",
      "\u001b[0;32m<ipython-input-47-32924c298fe9>\u001b[0m in \u001b[0;36m<module>\u001b[0;34m\u001b[0m\n\u001b[0;32m----> 1\u001b[0;31m \u001b[0manb_1\u001b[0m\u001b[0;34m=\u001b[0m\u001b[0mtorch\u001b[0m\u001b[0;34m.\u001b[0m\u001b[0mmatmul\u001b[0m\u001b[0;34m(\u001b[0m\u001b[0ma\u001b[0m\u001b[0;34m,\u001b[0m\u001b[0mb_1\u001b[0m\u001b[0;34m)\u001b[0m\u001b[0;34m\u001b[0m\u001b[0;34m\u001b[0m\u001b[0m\n\u001b[0m",
      "\u001b[0;31mRuntimeError\u001b[0m: Expected tensor to have size 5 at dimension 1, but got size 1 for argument #2 'batch2' (while checking arguments for bmm)"
     ]
    }
   ],
   "source": [
    "anb_1=torch.mul(a,b_1)"
   ]
  },
  {
   "cell_type": "code",
   "execution_count": 20,
   "metadata": {},
   "outputs": [
    {
     "name": "stdout",
     "output_type": "stream",
     "text": [
      "tensor([[[[ 0.0485, -0.8008, -0.2847,  0.0213, -0.2259]]],\n",
      "\n",
      "\n",
      "        [[[-0.1567, -1.0697, -1.3506,  1.1367, -0.5918]]],\n",
      "\n",
      "\n",
      "        [[[-0.3018,  0.0204,  0.1170,  0.3151, -0.8016]]]])\n"
     ]
    }
   ],
   "source": [
    "print(anb_1)"
   ]
  },
  {
   "cell_type": "code",
   "execution_count": 21,
   "metadata": {},
   "outputs": [
    {
     "name": "stdout",
     "output_type": "stream",
     "text": [
      "torch.Size([3, 1, 1, 5])\n"
     ]
    }
   ],
   "source": [
    "print(a.size())"
   ]
  },
  {
   "cell_type": "code",
   "execution_count": 22,
   "metadata": {},
   "outputs": [],
   "source": [
    "b_2=b.view(a.size())#用view来对齐某个张量的size"
   ]
  },
  {
   "cell_type": "code",
   "execution_count": 23,
   "metadata": {},
   "outputs": [
    {
     "name": "stdout",
     "output_type": "stream",
     "text": [
      "tensor([[[[ 0.2880,  0.5534,  0.5448,  0.0127,  0.3752]]],\n",
      "\n",
      "\n",
      "        [[[-0.7815, -2.1474, -1.6255,  1.3705, -0.9349]]],\n",
      "\n",
      "\n",
      "        [[[-0.6163, -0.1407,  0.4289, -1.4995,  0.6002]]]])\n"
     ]
    }
   ],
   "source": [
    "print(b_2)"
   ]
  },
  {
   "cell_type": "code",
   "execution_count": 24,
   "metadata": {},
   "outputs": [
    {
     "name": "stdout",
     "output_type": "stream",
     "text": [
      "3\n"
     ]
    }
   ],
   "source": [
    "print(a.size(0))"
   ]
  },
  {
   "cell_type": "code",
   "execution_count": 33,
   "metadata": {},
   "outputs": [],
   "source": [
    "cv1=nn.Conv2d(3,4,1)\n",
    "cl=nn.Linear(4,1)\n",
    "avg=nn.AdaptiveAvgPool2d(1)"
   ]
  },
  {
   "cell_type": "code",
   "execution_count": 36,
   "metadata": {},
   "outputs": [
    {
     "name": "stdout",
     "output_type": "stream",
     "text": [
      "tensor([[[[ 0.4649,  0.9935,  1.0971,  1.0195],\n",
      "          [-1.5548,  0.3147,  1.5516,  0.0909],\n",
      "          [-1.1605, -1.1982, -0.7820,  0.3801],\n",
      "          [-1.1502, -0.4309, -1.5485, -0.7550]],\n",
      "\n",
      "         [[-1.9007,  0.0426, -0.8200,  0.8193],\n",
      "          [-0.4436,  1.3320,  1.3528, -0.2758],\n",
      "          [-0.6366,  0.6098, -2.0121,  0.5197],\n",
      "          [-1.9599, -0.1328,  0.0997, -0.1471]],\n",
      "\n",
      "         [[-0.2544, -0.3944,  0.1246, -1.7999],\n",
      "          [-0.5695,  0.8072,  0.6319, -0.7992],\n",
      "          [-1.0589,  0.4223,  0.9074, -0.3841],\n",
      "          [-0.4180, -0.3334,  1.0198,  0.6387]]],\n",
      "\n",
      "\n",
      "        [[[ 0.0841, -0.2727,  0.3706,  0.6539],\n",
      "          [-0.4307,  0.6408, -1.6681, -1.4445],\n",
      "          [ 1.0051, -1.7785,  0.6686,  2.3857],\n",
      "          [-0.5427,  2.1993,  1.5766,  2.0408]],\n",
      "\n",
      "         [[ 0.5709, -0.4789, -0.0587, -0.4162],\n",
      "          [-2.9936,  0.7855, -1.6550,  1.4528],\n",
      "          [-1.3533, -0.3847, -0.1312,  0.9748],\n",
      "          [-0.2615, -0.1722, -1.9861, -1.0599]],\n",
      "\n",
      "         [[-0.0103, -0.3185,  0.3619,  1.3220],\n",
      "          [ 0.5397,  1.6254, -0.6547,  0.2666],\n",
      "          [-0.8614, -2.2270, -0.0087,  1.9532],\n",
      "          [ 0.4573, -1.6120,  0.2632, -0.9726]]]])\n"
     ]
    }
   ],
   "source": [
    "x=torch.randn(2,3,4,4)\n",
    "print(x)"
   ]
  },
  {
   "cell_type": "code",
   "execution_count": 46,
   "metadata": {},
   "outputs": [
    {
     "name": "stdout",
     "output_type": "stream",
     "text": [
      "tensor([[[ 8.0537e-01, -1.6401e-01, -1.2216e-02, -1.0195e-01,  1.2429e+00,\n",
      "          -6.8503e-01, -1.2129e+00,  4.8447e-01,  1.2704e+00,  3.9682e-01,\n",
      "           1.1070e+00, -7.3396e-02,  1.6134e+00,  5.4152e-01,  5.9676e-01,\n",
      "           4.3310e-01],\n",
      "         [ 1.0693e+00,  4.4111e-01,  1.0021e+00, -3.9934e-01, -2.0906e-01,\n",
      "           2.2775e-01,  5.2135e-01,  1.3024e-01, -2.1183e-01, -1.0620e-01,\n",
      "           1.1970e+00,  8.1814e-02,  5.4271e-01,  1.0427e-01,  2.1713e-01,\n",
      "           3.9708e-01],\n",
      "         [ 1.0073e+00,  5.0090e-02,  7.6125e-01, -1.1211e+00, -4.8744e-04,\n",
      "           8.6731e-02,  6.2871e-02, -9.6092e-02, -1.6334e-01,  9.9183e-02,\n",
      "           1.6401e+00, -2.1130e-01,  8.2797e-01,  6.7810e-02,  6.5793e-01,\n",
      "           6.1052e-01],\n",
      "         [-2.6157e-01, -1.0406e-01, -2.5452e-01,  1.9978e-01, -1.1459e-01,\n",
      "          -2.3495e-01, -1.9771e-01, -5.6251e-02, -3.8540e-02, -2.2006e-01,\n",
      "          -4.8150e-01, -7.6074e-02, -2.4210e-01, -1.3191e-01, -3.6254e-01,\n",
      "          -3.0803e-01]],\n",
      "\n",
      "        [[-5.8891e-02,  6.0125e-01, -4.2924e-02, -2.9148e-01,  1.4316e+00,\n",
      "          -8.4047e-01,  1.7947e+00,  2.1994e-01,  5.0630e-01,  1.7701e+00,\n",
      "          -5.0888e-02, -1.8035e+00,  4.2986e-01, -3.0331e-01,  1.8950e-01,\n",
      "          -5.3969e-02],\n",
      "         [ 1.2167e-01,  2.8781e-01,  5.9167e-01,  1.1909e+00,  1.5262e+00,\n",
      "           8.5482e-01,  1.7911e-01, -5.5884e-01,  7.8509e-01, -9.5397e-01,\n",
      "           5.6169e-01,  1.4363e+00,  4.3197e-01,  4.0167e-01,  1.6394e+00,\n",
      "           9.4116e-01],\n",
      "         [-4.1335e-02,  2.5020e-01,  4.8870e-01,  1.2285e+00,  1.9149e+00,\n",
      "           8.3681e-01,  5.1227e-01, -4.0400e-01,  4.3888e-01, -9.9647e-01,\n",
      "           3.3069e-01,  1.0585e+00,  5.7492e-01, -4.6425e-01,  1.4228e+00,\n",
      "           3.0959e-01],\n",
      "         [-1.4060e-01, -1.5725e-01, -2.4847e-01, -4.4331e-01, -4.8036e-01,\n",
      "          -4.1693e-01, -1.8113e-01, -1.3645e-01, -1.1419e-01,  1.8523e-01,\n",
      "          -1.8593e-01, -4.5658e-01, -2.8247e-01,  1.0382e-01, -3.5592e-01,\n",
      "          -7.0837e-02]]], grad_fn=<ViewBackward>)\n",
      "2\n",
      "tensor([[ 0.3901,  0.3128,  0.2675, -0.1803],\n",
      "        [ 0.2186,  0.5898,  0.4663, -0.2113]], grad_fn=<ViewBackward>)\n"
     ]
    }
   ],
   "source": [
    "out=cv1(x)\n",
    "#print(out.view(out.size(0),out.size(1),-1))#size(0)都是指batch的个数\n",
    "out=avg(out)\n",
    "print(out.size(0))\n",
    "out_1=out.view(out.size(0),-1)\n",
    "print(out_1)"
   ]
  },
  {
   "cell_type": "code",
   "execution_count": 52,
   "metadata": {},
   "outputs": [],
   "source": [
    "out_linear=cl(out_1)"
   ]
  },
  {
   "cell_type": "code",
   "execution_count": 39,
   "metadata": {},
   "outputs": [
    {
     "name": "stdout",
     "output_type": "stream",
     "text": [
      "tensor([[-0.2645],\n",
      "        [-0.4825]], grad_fn=<AddmmBackward>)\n"
     ]
    }
   ],
   "source": [
    "print(out_linear)"
   ]
  },
  {
   "cell_type": "code",
   "execution_count": 51,
   "metadata": {},
   "outputs": [
    {
     "name": "stdout",
     "output_type": "stream",
     "text": [
      "tensor([[ 0.3901,  0.3128],\n",
      "        [ 0.2675, -0.1803],\n",
      "        [ 0.2186,  0.5898],\n",
      "        [ 0.4663, -0.2113]], grad_fn=<ViewBackward>)\n"
     ]
    }
   ],
   "source": [
    "print(out_1.view(-1,out_1.size(0)))"
   ]
  },
  {
   "cell_type": "code",
   "execution_count": 49,
   "metadata": {},
   "outputs": [],
   "source": [
    "out_2=torch.matmul(out_1,out_1.view(-1,out_1.size(0)))"
   ]
  },
  {
   "cell_type": "code",
   "execution_count": 50,
   "metadata": {},
   "outputs": [
    {
     "name": "stdout",
     "output_type": "stream",
     "text": [
      "tensor([[0.2103, 0.2615],\n",
      "        [0.2464, 0.2817]], grad_fn=<MmBackward>)\n"
     ]
    }
   ],
   "source": [
    "print(out_2)"
   ]
  },
  {
   "cell_type": "code",
   "execution_count": 53,
   "metadata": {},
   "outputs": [],
   "source": [
    "embed=SNEmbedCLS(3,4)"
   ]
  },
  {
   "cell_type": "code",
   "execution_count": 54,
   "metadata": {},
   "outputs": [],
   "source": [
    "label=torch.LongTensor([1,2])"
   ]
  },
  {
   "cell_type": "code",
   "execution_count": 55,
   "metadata": {},
   "outputs": [
    {
     "name": "stdout",
     "output_type": "stream",
     "text": [
      "tensor([1, 2])\n"
     ]
    }
   ],
   "source": [
    "print(label)"
   ]
  },
  {
   "cell_type": "code",
   "execution_count": 56,
   "metadata": {},
   "outputs": [
    {
     "name": "stdout",
     "output_type": "stream",
     "text": [
      "tensor([[-0.1557, -0.3013,  0.6754, -0.0287],\n",
      "        [ 0.0333,  0.1653, -0.5748,  0.0145]], grad_fn=<EmbeddingBackward>)\n"
     ]
    }
   ],
   "source": [
    "e_m=embed(label)\n",
    "print(e_m)"
   ]
  },
  {
   "cell_type": "code",
   "execution_count": 59,
   "metadata": {},
   "outputs": [
    {
     "name": "stdout",
     "output_type": "stream",
     "text": [
      "tensor([[-0.0608, -0.0943,  0.1806,  0.0052],\n",
      "        [ 0.0073,  0.0975, -0.2680, -0.0031]], grad_fn=<MulBackward0>)\n"
     ]
    }
   ],
   "source": [
    "y=torch.mul(e_m,out_1)\n",
    "print(y)"
   ]
  },
  {
   "cell_type": "code",
   "execution_count": 61,
   "metadata": {},
   "outputs": [
    {
     "name": "stdout",
     "output_type": "stream",
     "text": [
      "tensor([[ 0.0308],\n",
      "        [-0.1663]], grad_fn=<SumBackward1>)\n"
     ]
    }
   ],
   "source": [
    "y_1=y.sum(dim=1,keepdim=True)\n",
    "print(y_1)"
   ]
  },
  {
   "cell_type": "code",
   "execution_count": 62,
   "metadata": {},
   "outputs": [
    {
     "name": "stdout",
     "output_type": "stream",
     "text": [
      "tensor([[-0.2338],\n",
      "        [-0.6488]], grad_fn=<AddBackward0>)\n"
     ]
    }
   ],
   "source": [
    "print(out_linear+y_1)"
   ]
  },
  {
   "cell_type": "code",
   "execution_count": null,
   "metadata": {},
   "outputs": [],
   "source": []
  }
 ],
 "metadata": {
  "kernelspec": {
   "display_name": "Python 3",
   "language": "python",
   "name": "python3"
  },
  "language_info": {
   "codemirror_mode": {
    "name": "ipython",
    "version": 3
   },
   "file_extension": ".py",
   "mimetype": "text/x-python",
   "name": "python",
   "nbconvert_exporter": "python",
   "pygments_lexer": "ipython3",
   "version": "3.6.10"
  }
 },
 "nbformat": 4,
 "nbformat_minor": 4
}
