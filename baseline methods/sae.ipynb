{
 "cells": [
  {
   "cell_type": "code",
   "execution_count": 1,
   "metadata": {},
   "outputs": [],
   "source": [
    "import numpy as np\n",
    "from scipy import linalg\n",
    "import os"
   ]
  },
  {
   "cell_type": "code",
   "execution_count": 2,
   "metadata": {},
   "outputs": [],
   "source": [
    "#基本配置\n",
    "data_path=os.path.abspath('../../../dataset/GZSL_for_AWA/Animals_with_Attributes2/')"
   ]
  },
  {
   "cell_type": "code",
   "execution_count": 3,
   "metadata": {},
   "outputs": [
    {
     "name": "stdout",
     "output_type": "stream",
     "text": [
      "/home/zhaozhi/dataset/GZSL_for_AWA/Animals_with_Attributes2\n"
     ]
    }
   ],
   "source": [
    "print(data_path)"
   ]
  },
  {
   "cell_type": "code",
   "execution_count": null,
   "metadata": {},
   "outputs": [],
   "source": [
    "#S是semantic, X是样本  lambda是参数\n",
    "def sae(S,X,p_lamb):\n",
    "    A=S*S.T\n",
    "    B=p_lamb*X*X.T\n",
    "    C=(1+p_lamb)*S*X.T\n",
    "    return linalg.solve_sylvester(A,B,C)\n"
   ]
  },
  {
   "cell_type": "code",
   "execution_count": null,
   "metadata": {},
   "outputs": [],
   "source": [
    "def zsl_el(S,S_tesamp,label,p=5):#S_tesamp是测试样本(一行一个样本)，跟每个类的semantic算cosine距离,label是真实类标向量\n",
    "    n=0\n",
    "    dist_cos=np.dot(S_tesamp,S.T)/(np.linalg.norm(S)*np.linalg.norm(S_tesamp))\n",
    "    hit_mat=np.zeros([S_tesamp.shape[0],p])#前p命中矩阵\n",
    "    sort_mat=np.argsort(-dist_cos,axis=1)\n",
    "    for i in range(S_tesamp.shape[0]):\n",
    "        hit_mat[i,:]=sort_mat[i,0:p]\n",
    "        \n",
    "    for i in range(S_tesamp.shape[0]):\n",
    "        if label[i] in hit_mat[i,:]:\n",
    "            n=n+1\n",
    "            \n",
    "    acc=n/S_tesamp.shape[0]    \n",
    "    return acc,n,S_tesamp.shape[0]"
   ]
  }
 ],
 "metadata": {
  "kernelspec": {
   "display_name": "Python 3",
   "language": "python",
   "name": "python3"
  },
  "language_info": {
   "codemirror_mode": {
    "name": "ipython",
    "version": 3
   },
   "file_extension": ".py",
   "mimetype": "text/x-python",
   "name": "python",
   "nbconvert_exporter": "python",
   "pygments_lexer": "ipython3",
   "version": "3.6.10"
  }
 },
 "nbformat": 4,
 "nbformat_minor": 4
}
