{
 "cells": [
  {
   "cell_type": "code",
   "execution_count": 1,
   "metadata": {},
   "outputs": [],
   "source": [
    "import os\n",
    "import shutil"
   ]
  },
  {
   "cell_type": "code",
   "execution_count": 2,
   "metadata": {},
   "outputs": [],
   "source": [
    "#root_path=os.path.abspath('../../dataset/Animals_with_Attributes2/')\n",
    "root_path=os.path.abspath('../../dataset/GZSL_for_AWA/Animals_with_Attributes2/')\n",
    "tar_path=os.path.abspath('../../dataset/GZSL_for_AWA/Animals_with_Attributes2/')"
   ]
  },
  {
   "cell_type": "code",
   "execution_count": 3,
   "metadata": {},
   "outputs": [
    {
     "name": "stdout",
     "output_type": "stream",
     "text": [
      "/home/zhaozhi/dataset/GZSL_for_AWA/Animals_with_Attributes2/JPEGImages/chimpanzee\n",
      "/home/zhaozhi/dataset/GZSL_for_AWA/Animals_with_Attributes2/testingset/chimpanzee\n",
      "all num of sample  728\n",
      "/home/zhaozhi/dataset/GZSL_for_AWA/Animals_with_Attributes2/JPEGImages/giant+panda\n",
      "/home/zhaozhi/dataset/GZSL_for_AWA/Animals_with_Attributes2/testingset/giant+panda\n",
      "all num of sample  874\n",
      "/home/zhaozhi/dataset/GZSL_for_AWA/Animals_with_Attributes2/JPEGImages/leopard\n",
      "/home/zhaozhi/dataset/GZSL_for_AWA/Animals_with_Attributes2/testingset/leopard\n",
      "all num of sample  720\n",
      "/home/zhaozhi/dataset/GZSL_for_AWA/Animals_with_Attributes2/JPEGImages/persian+cat\n",
      "/home/zhaozhi/dataset/GZSL_for_AWA/Animals_with_Attributes2/testingset/persian+cat\n",
      "all num of sample  747\n",
      "/home/zhaozhi/dataset/GZSL_for_AWA/Animals_with_Attributes2/JPEGImages/pig\n",
      "/home/zhaozhi/dataset/GZSL_for_AWA/Animals_with_Attributes2/testingset/pig\n",
      "all num of sample  713\n",
      "/home/zhaozhi/dataset/GZSL_for_AWA/Animals_with_Attributes2/JPEGImages/hippopotamus\n",
      "/home/zhaozhi/dataset/GZSL_for_AWA/Animals_with_Attributes2/testingset/hippopotamus\n",
      "all num of sample  684\n",
      "/home/zhaozhi/dataset/GZSL_for_AWA/Animals_with_Attributes2/JPEGImages/humpback+whale\n",
      "/home/zhaozhi/dataset/GZSL_for_AWA/Animals_with_Attributes2/testingset/humpback+whale\n",
      "all num of sample  709\n",
      "/home/zhaozhi/dataset/GZSL_for_AWA/Animals_with_Attributes2/JPEGImages/raccoon\n",
      "/home/zhaozhi/dataset/GZSL_for_AWA/Animals_with_Attributes2/testingset/raccoon\n",
      "all num of sample  512\n",
      "/home/zhaozhi/dataset/GZSL_for_AWA/Animals_with_Attributes2/JPEGImages/rat\n",
      "/home/zhaozhi/dataset/GZSL_for_AWA/Animals_with_Attributes2/testingset/rat\n",
      "all num of sample  310\n",
      "/home/zhaozhi/dataset/GZSL_for_AWA/Animals_with_Attributes2/JPEGImages/seal\n",
      "/home/zhaozhi/dataset/GZSL_for_AWA/Animals_with_Attributes2/testingset/seal\n",
      "all num of sample  988\n",
      "finished\n"
     ]
    }
   ],
   "source": [
    "label_path=[x.path for x in os.scandir(root_path) if 'testclasses' in x.path]\n",
    "words=[]#准备训练类名\n",
    "for i,file_label in enumerate(label_path):#training set\n",
    "        f=open(file_label,'r')\n",
    "        while True:\n",
    "            temp_w=f.readline().strip()\n",
    "            if not temp_w:\n",
    "                  break\n",
    "            words.append(temp_w)\n",
    "        f.close()\n",
    "path_dir=[]        \n",
    "for key_word in words:\n",
    "    #[path_dir.append(x.path) for x in os.scandir(root_path+'/JPEGImages/') if x.name.endswith(key_word)]#把训练类的文件夹地址存起来\n",
    "    for label in os.scandir(root_path+'/JPEGImages/'):\n",
    "        if label.name.endswith(key_word):\n",
    "            path_dir.append(label.path)#把对应类的文件夹目录加入列表\n",
    "            #class_dir=os.path.join(tar_path,'trainingset',key_word)#对应类文件夹的地址\n",
    "            test_dir=os.path.join(tar_path,'testingset',key_word)#对应类的测试集文件夹\n",
    "            #if os.path.isdir(class_dir):#检查是否有该目录，没有就创建  训练集\n",
    "            #    continue\n",
    "                \n",
    "            #else:\n",
    "            #    os.makedirs(class_dir) \n",
    "            if os.path.isdir(test_dir):  #测试集\n",
    "                continue\n",
    "            else:\n",
    "                os.makedirs(test_dir)\n",
    "                    \n",
    "            \n",
    "    \n",
    "#复制图片\n",
    "#要加个for\n",
    "for i,pdir in enumerate(path_dir):#遍历类\n",
    "    #确定des_path\n",
    "    for key in words:\n",
    "        if key in pdir:\n",
    "            class_word=key\n",
    "            break\n",
    "    des_test_path=os.path.join(tar_path,'testingset',class_word)\n",
    "    #des_train_path=os.path.join(tar_path,'trainingset',class_word)\n",
    "    print(pdir)\n",
    "    print(des_test_path)\n",
    "    #print(des_train_path)\n",
    "    dir_list=[]#存每个类图片地址\n",
    "    for item in os.scandir(pdir):#对每个类文件夹里的内容遍历\n",
    "        dir_list.append(item.path)\n",
    "        #[dir_list.append(x.path) for x in os.scandir(item)]\n",
    "    all_num=len(dir_list)#每个类样本个数\n",
    "    divided_num=all_num//5 #测试集不需要划分\n",
    "    print('all num of sample ',all_num)\n",
    "    #print('divided point ',divided_num)\n",
    "    for i_pic,pic_path in enumerate(dir_list):#获取每个图片的地址\n",
    "        #if i_pic<=all_num:   测试集暂时不需要这个部分\n",
    "        #    shutil.move(pic_path,des_test_path)\n",
    "        #    print('move to testset for '+str(i)+'th class')\n",
    "        #else:\n",
    "        #    shutil.move(pic_path,des_train_path)\n",
    "        #    print('move to trainset for '+str(i)+'th class')\n",
    "            \n",
    "        shutil.move(pic_path,des_test_path)\n",
    "            \n",
    "        \n",
    "        #if item.name.endswith(\".jpg\"):#确定复制的路径\n",
    "print('finished')            \n",
    "    "
   ]
  },
  {
   "cell_type": "code",
   "execution_count": null,
   "metadata": {},
   "outputs": [],
   "source": []
  }
 ],
 "metadata": {
  "kernelspec": {
   "display_name": "Python 3",
   "language": "python",
   "name": "python3"
  },
  "language_info": {
   "codemirror_mode": {
    "name": "ipython",
    "version": 3
   },
   "file_extension": ".py",
   "mimetype": "text/x-python",
   "name": "python",
   "nbconvert_exporter": "python",
   "pygments_lexer": "ipython3",
   "version": "3.6.10"
  }
 },
 "nbformat": 4,
 "nbformat_minor": 4
}
